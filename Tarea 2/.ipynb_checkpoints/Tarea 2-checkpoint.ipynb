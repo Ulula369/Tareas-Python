{
 "cells": [
  {
   "cell_type": "code",
   "execution_count": null,
   "metadata": {},
   "outputs": [],
   "source": [
    "# Tarea 2"
   ]
  },
  {
   "cell_type": "code",
   "execution_count": 25,
   "metadata": {},
   "outputs": [
    {
     "name": "stdout",
     "output_type": "stream",
     "text": [
      "['M1', 'M200', 'M17', 'M31', 'M87', 'M104']\n"
     ]
    }
   ],
   "source": [
    "# 1. Cree una nueva variable llamada `list_messier` y asigne los elementos `\"M1\", \"M200\", \"M17\", \"M31\",\"M87\", \"M104\"`. Imprima la lista completa utilizando `print()`.\n",
    "list_messier = [\"M1\", \"M200\", \"M17\", \"M31\",\"M87\", \"M104\"]\n",
    "print(list_messier)"
   ]
  },
  {
   "cell_type": "code",
   "execution_count": 26,
   "metadata": {},
   "outputs": [
    {
     "name": "stdout",
     "output_type": "stream",
     "text": [
      "['M1', 'M200', 'M17', 'M31', 'M87', 'M104', 'M97']\n"
     ]
    }
   ],
   "source": [
    "# 2. Agrege un nuevo elemento `\"M97\"` a la lista existente `list_messier` utilizando la función `.append()`\n",
    "list_messier.append(\"M97\")\n",
    "print(list_messier)"
   ]
  },
  {
   "cell_type": "code",
   "execution_count": 27,
   "metadata": {},
   "outputs": [
    {
     "name": "stdout",
     "output_type": "stream",
     "text": [
      "2\n"
     ]
    }
   ],
   "source": [
    "# 3. Retorne el tercer elemento de la lista utilizando indexado.\n",
    "ind = list_messier.index(\"M17\")\n",
    "print(ind)"
   ]
  },
  {
   "cell_type": "code",
   "execution_count": 28,
   "metadata": {},
   "outputs": [
    {
     "data": {
      "text/plain": [
       "'M97'"
      ]
     },
     "execution_count": 28,
     "metadata": {},
     "output_type": "execute_result"
    }
   ],
   "source": [
    "# 4. Retorne el último elemento de la lista utilizando índices negativos.\n",
    "list_messier[-1]"
   ]
  },
  {
   "cell_type": "code",
   "execution_count": 29,
   "metadata": {},
   "outputs": [
    {
     "name": "stdout",
     "output_type": "stream",
     "text": [
      "M200\n",
      "M17\n",
      "M31\n"
     ]
    }
   ],
   "source": [
    "# 5. Las listas también pueden retornar rangos de valores utilizando slicing. Retorne el segundo, tercero, y cuarto elemento.\n",
    "for lista in list_messier[1:4]:\n",
    "    print(lista)"
   ]
  },
  {
   "cell_type": "code",
   "execution_count": 30,
   "metadata": {},
   "outputs": [
    {
     "data": {
      "text/plain": [
       "7"
      ]
     },
     "execution_count": 30,
     "metadata": {},
     "output_type": "execute_result"
    }
   ],
   "source": [
    "# 6. ¿Cuántos elementos tiene esta lista? Retorne el largo de la lista utilizando la función `len()`.\n",
    "len(list_messier)"
   ]
  },
  {
   "cell_type": "code",
   "execution_count": 31,
   "metadata": {},
   "outputs": [
    {
     "name": "stdout",
     "output_type": "stream",
     "text": [
      "M87 se encuentra en la lista\n"
     ]
    }
   ],
   "source": [
    "# 7. La palabra `in` se puede utilizar para saber si un elemento existe dentro de una lista. Utilice esta palabra junto a un condicional `if` e imprima la frase `\"M87 se encuentra en la lista\"`, si y solo si el elemento \"M87\" se encuentra dentro de esta lista\n",
    "for M in list_messier:\n",
    "    if M == \"M87\":\n",
    "        print(\"M87 se encuentra en la lista\")"
   ]
  },
  {
   "cell_type": "code",
   "execution_count": 32,
   "metadata": {},
   "outputs": [
    {
     "name": "stdout",
     "output_type": "stream",
     "text": [
      "['M1', 'NGC 205', 'M17', 'M31', 'M87', 'M104', 'M97']\n"
     ]
    }
   ],
   "source": [
    "# 8 El elemento \"M200\" no es un objeto real del catálogo de Messier. Cambie el elemento \"M200\" por el elemento \"NGC 205\".\n",
    "for x in range(len(list_messier)):\n",
    "    if list_messier[x] == \"M200\":\n",
    "        list_messier[x] = \"NGC 205\"\n",
    "print(list_messier)"
   ]
  },
  {
   "cell_type": "code",
   "execution_count": 33,
   "metadata": {},
   "outputs": [
    {
     "name": "stdout",
     "output_type": "stream",
     "text": [
      "['M1', 'M7', 'NGC 205', 'M17', 'M31', 'M87', 'M104', 'M97']\n"
     ]
    }
   ],
   "source": [
    "# 9. Inserte el valor \"M7\" entre los elementos \"M1\" y \"NGC 205\" utilizando la función ´.insert(). Imprima la lista completa\n",
    "list_messier.insert(1, \"M7\")\n",
    "print(list_messier)"
   ]
  },
  {
   "cell_type": "code",
   "execution_count": 34,
   "metadata": {},
   "outputs": [
    {
     "name": "stdout",
     "output_type": "stream",
     "text": [
      "['M1', 'M7', 'NGC 205', 'M17', 'M87', 'M104', 'M97']\n"
     ]
    }
   ],
   "source": [
    "# 10 Borre el elemento \"M31\" de la lista, utilizando la función remove(). Imprima la lista completa.\n",
    "for x in list_messier:\n",
    "    if x == \"M31\":\n",
    "        list_messier.remove(x)\n",
    "print(list_messier)"
   ]
  },
  {
   "cell_type": "code",
   "execution_count": 35,
   "metadata": {},
   "outputs": [
    {
     "name": "stdout",
     "output_type": "stream",
     "text": [
      "['M1', 'M7', 'NGC 205', 'M17', 'M87', 'M104', 'M97']\n"
     ]
    }
   ],
   "source": [
    "# 11 Borre el primer elemento de la lista, en el índice 0 utilizando la función .pop(). Imprima la lista completa.\n",
    "\n",
    "for x in range(len(list_messier),0):\n",
    "    if list_messier[x] == \"M1\":\n",
    "        print(list_messier.pop(x))\n",
    "print(list_messier)"
   ]
  },
  {
   "cell_type": "code",
   "execution_count": 36,
   "metadata": {},
   "outputs": [
    {
     "name": "stdout",
     "output_type": "stream",
     "text": [
      "['M1', 'M7', 'NGC 205', 'M17', 'M87', 'M97']\n"
     ]
    }
   ],
   "source": [
    "# 12 Borre el penúltimo elemento de la lista utilizando la palabra clave del e.g. del mi_lista[indice_a_borrar].\n",
    "del list_messier[-2]\n",
    "print(list_messier)"
   ]
  },
  {
   "cell_type": "code",
   "execution_count": 37,
   "metadata": {},
   "outputs": [
    {
     "name": "stdout",
     "output_type": "stream",
     "text": [
      "[]\n"
     ]
    }
   ],
   "source": [
    "# 13 Elimine todos los elementos de la lista list_messier utilizando la función clear. ¿La lista aún existe? ¿Cómo podemos borrar la lista por completo?\n",
    "\n",
    "list_messier.clear()\n",
    "print(list_messier)"
   ]
  },
  {
   "cell_type": "code",
   "execution_count": 38,
   "metadata": {},
   "outputs": [],
   "source": [
    "# La lista aún existe solo que esta vacía."
   ]
  },
  {
   "cell_type": "code",
   "execution_count": 39,
   "metadata": {},
   "outputs": [],
   "source": [
    "# 14 Borre la lista list_messier por completo utilizando la palabra clave del. ¿Qué pasa si intentamos llamar a la lista?\n",
    "del(list_messier)"
   ]
  },
  {
   "cell_type": "code",
   "execution_count": 40,
   "metadata": {},
   "outputs": [
    {
     "ename": "NameError",
     "evalue": "name 'list_messier' is not defined",
     "output_type": "error",
     "traceback": [
      "\u001b[1;31m---------------------------------------------------------------------------\u001b[0m",
      "\u001b[1;31mNameError\u001b[0m                                 Traceback (most recent call last)",
      "\u001b[1;32m<ipython-input-40-c3dd536cd228>\u001b[0m in \u001b[0;36m<module>\u001b[1;34m\u001b[0m\n\u001b[1;32m----> 1\u001b[1;33m \u001b[0mprint\u001b[0m\u001b[1;33m(\u001b[0m\u001b[0mlist_messier\u001b[0m\u001b[1;33m)\u001b[0m\u001b[1;33m\u001b[0m\u001b[1;33m\u001b[0m\u001b[0m\n\u001b[0m",
      "\u001b[1;31mNameError\u001b[0m: name 'list_messier' is not defined"
     ]
    }
   ],
   "source": [
    "print(list_messier)"
   ]
  },
  {
   "cell_type": "code",
   "execution_count": 41,
   "metadata": {},
   "outputs": [],
   "source": [
    "# Como hemos borrado la lista, entonces Python ya no lo reconoce"
   ]
  },
  {
   "cell_type": "code",
   "execution_count": 42,
   "metadata": {},
   "outputs": [
    {
     "name": "stdout",
     "output_type": "stream",
     "text": [
      "[3.302e+23, 4.869e+24, 5.9742e+24, 6.4191e+23, 1.8987e+27, 5.6851e+26, 8.6849e+25, 1.0244e+26]\n"
     ]
    }
   ],
   "source": [
    "# Cree una nueva lista llamada list_masas y agregue todas las masas en la tabla, utilizando notación científica.\n",
    "list_masas = [3.302E23, 4.8690E24, 5.9742E24, 6.4191E23, 1.8987E27, 5.6851e26, 8.6849e25, 1.0244e26]\n",
    "print(list_masas)"
   ]
  },
  {
   "cell_type": "code",
   "execution_count": 43,
   "metadata": {},
   "outputs": [
    {
     "name": "stdout",
     "output_type": "stream",
     "text": [
      "El valor mínimo es: 3.302e+23\n",
      "El valor máximo es: 1.8987e+27\n"
     ]
    }
   ],
   "source": [
    "# ¿Cuál es el valor máximo en la lista? ¿Cuál es el valor mínimo? Utilice las funciones max() y min() para retornar ambos valores.\n",
    "def min_max(numeros):\n",
    "    menor = numeros[0]\n",
    "    mayor = numeros[0]\n",
    "    for n in numeros:\n",
    "        if n < menor:\n",
    "            menor = n \n",
    "        if n > mayor:\n",
    "            mayor = n\n",
    "    return menor, mayor \n",
    "print(\"El valor mínimo es:\", min(list_masas))\n",
    "print(\"El valor máximo es:\", max(list_masas))\n",
    "#print(\"Los valores mínimos y máximos son:\", min_max(list_masas))"
   ]
  },
  {
   "cell_type": "code",
   "execution_count": 44,
   "metadata": {},
   "outputs": [
    {
     "name": "stdout",
     "output_type": "stream",
     "text": [
      "La suma total de masas de los planetas es: 2.66831431e+27\n"
     ]
    }
   ],
   "source": [
    "# Sume todos los valores de la lista utilizando la función sum() ¿Cuál es el total de la masa de los planetas?\n",
    "suma = sum(list_masas)\n",
    "print(\"La suma total de masas de los planetas es:\", suma)"
   ]
  },
  {
   "cell_type": "code",
   "execution_count": 45,
   "metadata": {},
   "outputs": [
    {
     "name": "stdout",
     "output_type": "stream",
     "text": [
      "La suma total de masas de los planetas es: 2.66831431e+27\n"
     ]
    }
   ],
   "source": [
    "# Confirme su respuesta anterior iterando sobre la lista y sumando sus valores: utilizando un for junto a un in y utilizando una variable de ayuda total_masas sume el total de las masas en la lista. Imprima el total de las masas.\n",
    "def sum_lista(lista):\n",
    "    sum = 0\n",
    "    for list_masas in lista:\n",
    "        sum += list_masas\n",
    "    return sum\n",
    "print(\"La suma total de masas de los planetas es:\", sum_lista(list_masas))"
   ]
  },
  {
   "cell_type": "code",
   "execution_count": 46,
   "metadata": {},
   "outputs": [
    {
     "name": "stdout",
     "output_type": "stream",
     "text": [
      "La suma total de las masas de los planetas en porcentaje con respeccto a la masa del sol equivale a 0.1334157155\n"
     ]
    }
   ],
   "source": [
    "# Una masa solar equivale a 2e30 kg ¿A qué porcentaje de la masa del Sol equivale el total de la sumatoria de la masa de los planetas? Imprima el resultado.\n",
    "p = ((2.66831431e27*100)/2e30)\n",
    "print(\"La suma total de las masas de los planetas en porcentaje con respeccto a la masa del sol equivale a\", p)"
   ]
  },
  {
   "cell_type": "code",
   "execution_count": 47,
   "metadata": {},
   "outputs": [
    {
     "name": "stdout",
     "output_type": "stream",
     "text": [
      "Mercurio --> 3.302e+23\n",
      "Venus --> 4.869e+24\n",
      "Tierra --> 5.9742e+24\n",
      "Marte --> 6.4191e+23\n",
      "Júpiter --> 1.8987e+27\n",
      "Saturno --> 5.6851e+26\n",
      "Urano --> 8.6849e+25\n",
      "Neptuno --> 1.0244e+26\n"
     ]
    }
   ],
   "source": [
    "# Cree un nuevo diccionario llamado dic_masas que contenga el nombre del planeta y su masa, de la forma \"Mercurio\" : 3,302e23. Imprima cada elemento en el diccionario utilizando un for loop.\n",
    "dic_masas = {\"Mercurio\":3.302e23,\"Venus\":4.8690e24,\"Tierra\":5.9742e24,\"Marte\":6.4191e23,\"Júpiter\":1.8987e27,\"Saturno\":5.6851e26,\"Urano\":8.6849e25,\"Neptuno\":1.0244e26}\n",
    "for x,y in dic_masas.items():\n",
    "    print(\"{0} --> {1}\".format(x,y))\n",
    "#   print(x,y)"
   ]
  },
  {
   "cell_type": "code",
   "execution_count": 61,
   "metadata": {},
   "outputs": [
    {
     "name": "stdout",
     "output_type": "stream",
     "text": [
      "{'Mercurio': 3.302e+23, 'Venus': 4.869e+24, 'Tierra': 5.9742e+24, 'Marte': 6.4191e+23, 'Júpiter': 1.8987e+27, 'Saturno': 5.6851e+26, 'Urano': 8.6849e+25, 'Neptuno': 1.0244e+26}\n"
     ]
    }
   ],
   "source": [
    "# Imprima cada elemento dentro del dic_masas utilizando un while loop.\n",
    "#dic_masas.key()\n",
    "#dic_masas.value()\n",
    "#planetas = list(dic_masas.value)\n",
    "#planetas = []\n",
    "i = 0\n",
    "while i < len(dic_masas):\n",
    "    i = i + 1\n",
    "    if i > len(dic_masas):\n",
    "        break \n",
    "print(dic_masas)"
   ]
  },
  {
   "cell_type": "code",
   "execution_count": 64,
   "metadata": {},
   "outputs": [],
   "source": [
    "# Utilizando un for o while loop imprima la división de la masa del planeta entre 1_masa_solar * 100, e.g. masa_planeta/masa_solar *100.\n",
    "\n",
    "#No pude hacerlo :( de esta forma."
   ]
  },
  {
   "cell_type": "code",
   "execution_count": 79,
   "metadata": {},
   "outputs": [
    {
     "ename": "TypeError",
     "evalue": "unsupported operand type(s) for +: 'dict_values' and 'int'",
     "output_type": "error",
     "traceback": [
      "\u001b[1;31m---------------------------------------------------------------------------\u001b[0m",
      "\u001b[1;31mTypeError\u001b[0m                                 Traceback (most recent call last)",
      "\u001b[1;32m<ipython-input-79-e734b9121849>\u001b[0m in \u001b[0;36m<module>\u001b[1;34m\u001b[0m\n\u001b[0;32m      2\u001b[0m \u001b[0mmasa_total\u001b[0m \u001b[1;33m=\u001b[0m \u001b[1;36m0\u001b[0m\u001b[1;33m\u001b[0m\u001b[1;33m\u001b[0m\u001b[0m\n\u001b[0;32m      3\u001b[0m \u001b[1;32mfor\u001b[0m \u001b[0mmasa_total\u001b[0m \u001b[1;32min\u001b[0m \u001b[0mdic_masas\u001b[0m\u001b[1;33m.\u001b[0m\u001b[0mvalues\u001b[0m\u001b[1;33m(\u001b[0m\u001b[1;33m)\u001b[0m\u001b[1;33m:\u001b[0m\u001b[1;33m\u001b[0m\u001b[1;33m\u001b[0m\u001b[0m\n\u001b[1;32m----> 4\u001b[1;33m     \u001b[0mmasa_total\u001b[0m \u001b[1;33m=\u001b[0m \u001b[0mdic_masas\u001b[0m\u001b[1;33m.\u001b[0m\u001b[0mvalues\u001b[0m\u001b[1;33m(\u001b[0m\u001b[1;33m)\u001b[0m \u001b[1;33m+\u001b[0m \u001b[1;36m1\u001b[0m\u001b[1;33m\u001b[0m\u001b[1;33m\u001b[0m\u001b[0m\n\u001b[0m\u001b[0;32m      5\u001b[0m \u001b[0mprint\u001b[0m\u001b[1;33m(\u001b[0m\u001b[0mmasa_total\u001b[0m\u001b[1;33m)\u001b[0m\u001b[1;33m\u001b[0m\u001b[1;33m\u001b[0m\u001b[0m\n\u001b[0;32m      6\u001b[0m \u001b[1;33m\u001b[0m\u001b[0m\n",
      "\u001b[1;31mTypeError\u001b[0m: unsupported operand type(s) for +: 'dict_values' and 'int'"
     ]
    }
   ],
   "source": [
    "# Utilizando un for o while loop sume todas las masas de los planetas, imprima una variable llamada masa_total para guardar el resultado.\n",
    "\n",
    "#No pude hacerlo :( de esta forma.\n"
   ]
  },
  {
   "cell_type": "code",
   "execution_count": 81,
   "metadata": {},
   "outputs": [
    {
     "name": "stdout",
     "output_type": "stream",
     "text": [
      "La masa total es: 2.66831431e+27\n"
     ]
    }
   ],
   "source": [
    "masa_total = sum(dic_masas.values())\n",
    "print(\"La masa total es:\",masa_total)"
   ]
  },
  {
   "cell_type": "code",
   "execution_count": 74,
   "metadata": {},
   "outputs": [
    {
     "name": "stdout",
     "output_type": "stream",
     "text": [
      "2.66831431e+27\n"
     ]
    }
   ],
   "source": [
    "# Guarde el resultado del total de masas en un archivo .txt utilizando Python.\n"
   ]
  }
 ],
 "metadata": {
  "kernelspec": {
   "display_name": "Python 3",
   "language": "python",
   "name": "python3"
  },
  "language_info": {
   "codemirror_mode": {
    "name": "ipython",
    "version": 3
   },
   "file_extension": ".py",
   "mimetype": "text/x-python",
   "name": "python",
   "nbconvert_exporter": "python",
   "pygments_lexer": "ipython3",
   "version": "3.8.5"
  }
 },
 "nbformat": 4,
 "nbformat_minor": 4
}
