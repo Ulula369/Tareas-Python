{
 "cells": [
  {
   "cell_type": "markdown",
   "metadata": {},
   "source": [
    "# Tarea 1\n"
   ]
  },
  {
   "cell_type": "code",
   "execution_count": 1,
   "metadata": {},
   "outputs": [
    {
     "name": "stdout",
     "output_type": "stream",
     "text": [
      "Hola mundo\n"
     ]
    }
   ],
   "source": [
    "# 4. Imprima **\"Hola mundo\"** utilizando la función print().\n",
    "print(\"Hola mundo\") "
   ]
  },
  {
   "cell_type": "code",
   "execution_count": 48,
   "metadata": {},
   "outputs": [],
   "source": [
    "# 5. Cree tres variables **nombre**, **edad**, **pais**. Asigne el valor de estas variables a su nombre, edad, y país.\n",
    "# int\n",
    "# float\n",
    "# string\n",
    "nombre = \"Abel Hernández\" \n",
    "edad = 30\n",
    "pais = \"Honduras\""
   ]
  },
  {
   "cell_type": "code",
   "execution_count": 23,
   "metadata": {},
   "outputs": [
    {
     "name": "stdout",
     "output_type": "stream",
     "text": [
      "Abel Hernández30Honduras\n"
     ]
    }
   ],
   "source": [
    "# 6. Concatene e imprima las variables **nombre**, **edad**, **pais** utilizando una sola función print().\n",
    "presentacion = nombre + str(edad) + pais\n",
    "print(presentacion)"
   ]
  },
  {
   "cell_type": "code",
   "execution_count": 9,
   "metadata": {},
   "outputs": [
    {
     "name": "stdout",
     "output_type": "stream",
     "text": [
      "<class 'str'>\n",
      "<class 'int'>\n",
      "<class 'str'>\n"
     ]
    }
   ],
   "source": [
    "# 7. ¿Qué tipo de datos son las variables **nombre**, **edad**, **país**? Imprima el tipo de dato de estas variables con la función print().\n",
    "print(type(nombre))\n",
    "print(type(edad))\n",
    "print(type(pais))"
   ]
  },
  {
   "cell_type": "code",
   "execution_count": 18,
   "metadata": {},
   "outputs": [
    {
     "name": "stdout",
     "output_type": "stream",
     "text": [
      "En astronomía, la clasificación estelar \n",
      "es la clasificación de las estrellas en \n",
      "función de sus características espectrales\n"
     ]
    }
   ],
   "source": [
    "# 8. Imprima la frase \"En astronomía, la clasificación estelar es la clasificación de las estrellas en función de sus características espectrales.\"\n",
    "print(\"En astronomía, la clasificación estelar \\nes la clasificación de las estrellas en \\nfunción de sus características espectrales\")  "
   ]
  },
  {
   "cell_type": "code",
   "execution_count": 30,
   "metadata": {},
   "outputs": [
    {
     "name": "stdout",
     "output_type": "stream",
     "text": [
      "Hipergigantes---Subgigantes---Secuencia principal*"
     ]
    }
   ],
   "source": [
    "# 9. Imprima las strings \"Hipergigantes\", \"Subgigantes\", \"Secuencia principal\" utilizando una sola función print(), cada palabra deberá estar separada por una string \"---\" utilizando el argumento sep=\"---\". La línea debe de terminar con un string \"\\*\", utilizando el argumento end=\"\".\n",
    "print(\"Hipergigantes\",\"Subgigantes\", \"Secuencia principal\",sep=\"---\", end=\"*\")"
   ]
  },
  {
   "cell_type": "code",
   "execution_count": 46,
   "metadata": {},
   "outputs": [
    {
     "name": "stdout",
     "output_type": "stream",
     "text": [
      "masa de jupiter = 1.0762554112554114e+27\n"
     ]
    }
   ],
   "source": [
    "# 10. Una masa solar es equivalente a 1,98892 × 10^30 kg. El Sol (1 masa solar) tiene aproximadamente 1048 veces la masa de Júpiter. Cree dos variables **m_solar** y **m_jupiter** correspondientes a la masa del Sol y el *cálculo* de la masa de Júpiter. Imprima el resultado utilizando la función print() con interpolación de variables i.e.[print(f\"Un string {su_variable}\"].\n",
    "m_solar = 1.98892 * 10**30\n",
    "m_jupiter = m_solar / 1848\n",
    "print(f\"masa de jupiter = {m_jupiter}\")"
   ]
  },
  {
   "cell_type": "code",
   "execution_count": 65,
   "metadata": {},
   "outputs": [
    {
     "name": "stdout",
     "output_type": "stream",
     "text": [
      "false\n",
      "false\n",
      "true\n",
      "true\n",
      "true\n"
     ]
    }
   ],
   "source": [
    "# 11. Una Unidad Astronómica AU es definida como \"una unidad de longitud igual, por definición, a 149 597 870 700 m que equivale aproximadamente a la distancia media entre la Tierra y el Sol.\" Utilizando Python: operadores <>, condicionales *if*, y print(). Evalue las condiciones *True False* e imprima *True* si su distancia al Sol es mayor que 1 AU o imprima *False* si la distancia del planeta al Sol es menor a 1 AU.\n",
    "d_sol = 1\n",
    "d_me = 0.389\n",
    "d_v = 0.723\n",
    "d_ma = 1.524\n",
    "d_j = 5.203\n",
    "d_s = 9.537\n",
    "if d_me > d_sol:\n",
    "    print(\"true\") \n",
    "else: \n",
    "    print(\"false\")\n",
    "if d_v > d_sol:\n",
    "    print(\"true\") \n",
    "else: \n",
    "    print(\"false\")\n",
    "if d_ma > d_sol:\n",
    "    print(\"true\") \n",
    "else: \n",
    "    print(\"false\")\n",
    "if d_j > d_sol:\n",
    "    print(\"true\") \n",
    "else: \n",
    "    print(\"false\")\n",
    "if d_s > d_sol:\n",
    "    print(\"true\") \n",
    "else: \n",
    "    print(\"false\")"
   ]
  },
  {
   "cell_type": "code",
   "execution_count": null,
   "metadata": {},
   "outputs": [],
   "source": []
  }
 ],
 "metadata": {
  "kernelspec": {
   "display_name": "Python 3",
   "language": "python",
   "name": "python3"
  },
  "language_info": {
   "codemirror_mode": {
    "name": "ipython",
    "version": 3
   },
   "file_extension": ".py",
   "mimetype": "text/x-python",
   "name": "python",
   "nbconvert_exporter": "python",
   "pygments_lexer": "ipython3",
   "version": "3.8.5"
  }
 },
 "nbformat": 4,
 "nbformat_minor": 4
}
