{
 "cells": [
  {
   "cell_type": "markdown",
   "metadata": {},
   "source": [
    "# Sesión 1: Sintáxis \n",
    "\n",
    "Python es uno de los lenguajes de programación más populares y uno de los más recomendables para iniciarse en la escritura de código. Cuando usamos lenguaje natural para comunicarnos con otras personas, utilizamos un conjunto de reglas y estructuras para entregar el mensaje. Por ejemplo:\n",
    " \n",
    " \"Mamá amasa la masa\"\n",
    "\n",
    "En la frase anterior, usamos sujeto, verbo y complemento. Esto permite la comunicación fluída entre dos personas. Cuando programamos sucede la misma logica entre humano y computadora. Existen un conjunto de reglas que permiten que le podamos decir a la computadora que hacer. Nos referirnos a estas reglas como **Sintáxis**\n",
    "\n",
    "Cada lenguaje de programación tiene una sintáxis diferente. Es importante que al programar, tu trabajo es resolver un problema y hacer que la computadora lo haga por ti. La sintáxis es clave para lograr que la computadora haga lo que le pidas. Antes de empezar a programar es importante tomar en cuenta los siguientes puntos:\n",
    "\n",
    "    * Las computadoras son rápidas pero no razonan. Literalmente son una caja de circuitos que ejecutan software\n",
    "    * Las computadoras no \"suponen\" lo que quieres que hagan, ellas hacen exactamente lo que le dices a traves de tu código\n",
    "    * Las computadoras entienden la sintáxis correcta, no van a asumir lo que quisiste decir\n",
    "    \n",
    "**Tokens:** Se denominan tokens a los componentes léxicos del lenguaje de programación.\n",
    "Los tipos de token son: \n",
    "        - Identificadores\n",
    "        - Palabras clave\n",
    "        - Operadores\n",
    "        - Delimitadores\n",
    "        - Literales.\n",
    "Para separar los tokens se utilizan espacios.\n",
    "\n",
    "\n",
    "\n"
   ]
  },
  {
   "cell_type": "markdown",
   "metadata": {},
   "source": [
    "**Identificadores:**\n",
    "Son el nombre que le damos una variable, función, clase, módulo u objeto. Suelen empezar con letras, en mayúscula o minúscula, o con un guión bajo seguido de un cero y varias letras o números.Python diferencia entre mayúsculas y minúsculas.\n"
   ]
  },
  {
   "cell_type": "code",
   "execution_count": null,
   "metadata": {},
   "outputs": [],
   "source": [
    "identificador = 5\n",
    "print(identificador)"
   ]
  },
  {
   "cell_type": "markdown",
   "metadata": {},
   "source": [
    "Python reconoce mayúsculas y minúsculas"
   ]
  },
  {
   "cell_type": "code",
   "execution_count": null,
   "metadata": {},
   "outputs": [],
   "source": [
    "print(Identificador)"
   ]
  },
  {
   "cell_type": "markdown",
   "metadata": {},
   "source": [
    "Python NO permite signos de puntuación como @, $ y %, excepto el guión bajo (_) en el nombre de sus identificadores"
   ]
  },
  {
   "cell_type": "code",
   "execution_count": null,
   "metadata": {},
   "outputs": [],
   "source": [
    "_identificador = 5\n",
    "print(_identificador)"
   ]
  },
  {
   "cell_type": "code",
   "execution_count": null,
   "metadata": {},
   "outputs": [],
   "source": [
    "%identificador = 5\n",
    "print(%identificador)"
   ]
  },
  {
   "cell_type": "markdown",
   "metadata": {},
   "source": [
    "Los identificadores no pueden iniciar con números"
   ]
  },
  {
   "cell_type": "code",
   "execution_count": null,
   "metadata": {},
   "outputs": [],
   "source": [
    "1_identificador = 5\n",
    "print(1_identificador)"
   ]
  },
  {
   "cell_type": "code",
   "execution_count": null,
   "metadata": {},
   "outputs": [],
   "source": [
    "identificador1 = 5\n",
    "print(identificador1)"
   ]
  },
  {
   "cell_type": "markdown",
   "metadata": {},
   "source": [
    "**Palabras clave:**\n",
    "Python tiene 30 palabras reservadas que no podremos utilizar para ningún tipo de identificador:"
   ]
  },
  {
   "cell_type": "markdown",
   "metadata": {},
   "source": [
    "and \t  del\t      for\t     is\t      raise\n",
    "assert\t  elif\t      from\t     lambda\t  return\n",
    "break\t  else\t      global\t not\t  try\n",
    "class\t  except\t  if\t     or\t      while\n",
    "continue  exec\t      import\t pass\t  with\n",
    "def\t      finally\t  in\t     print\t  yield"
   ]
  },
  {
   "cell_type": "code",
   "execution_count": null,
   "metadata": {},
   "outputs": [],
   "source": [
    "print(\"Hola Mundo\")"
   ]
  },
  {
   "cell_type": "markdown",
   "metadata": {},
   "source": [
    "**Operadores:**\n",
    "Son símbolos que indican cómo se deben manipular los operandos. Los operadores junto con los operandos forman una expresión, que es una fórmula que define el cálculo de un valor. Los operandos pueden ser constantes, variables o llamadas a funciones, siempre que éstas devuelvan algún valor.\n",
    "\n",
    "-Operadores Lógicos o booleanos: Devuelven TRUE or False dependiendo del resultado que obtengan\n",
    "\n",
    "        --a OR b: Solo se evalúa el segundo operando si el primero es falso\n",
    "        --a AND b: Solo se evalúa el segundo operando si el primero es verdadero\n",
    "        --NOT a: Si a se evalúa a falso, entonces devuelve True, si no devuelve False\n"
   ]
  },
  {
   "cell_type": "code",
   "execution_count": null,
   "metadata": {},
   "outputs": [],
   "source": [
    "x = True\n",
    "y = False\n",
    "x or y"
   ]
  },
  {
   "cell_type": "code",
   "execution_count": null,
   "metadata": {},
   "outputs": [],
   "source": [
    "x and y"
   ]
  },
  {
   "cell_type": "code",
   "execution_count": null,
   "metadata": {},
   "outputs": [],
   "source": [
    "not x"
   ]
  },
  {
   "cell_type": "code",
   "execution_count": null,
   "metadata": {},
   "outputs": [],
   "source": [
    "not y"
   ]
  },
  {
   "cell_type": "markdown",
   "metadata": {},
   "source": [
    "-Operadores de comparación:Los operadores de comparación se utilizan, como su nombre indica, para comparar dos o más valores. El resultado de estos operadores siempre es True o False.\n",
    "\n",
    "       >: Mayor que. True si el operando de la izquierda es estrictamente mayor que el de la derecha;si no False.\n",
    "       >=: Mayor igual que. True si el operando de la izquierda es mayor o igual que el de la derecha;si no False.\n",
    "       <: Menor que.True si el operando de la izquierda es estrictamente menor que el de la derecha;si no False.\n",
    "       <=: Menor igual que.True si el operando de la izquierda es menor o igual que el de la derecha;si no False.\n",
    "       ==: Igual.True si el operando de la izquierda es igual que el de la derecha; False en caso contrario.\n",
    "       !=: Diferente.True si los operandos son distintos; False en caso contrario.\n",
    "        \n",
    "    "
   ]
  },
  {
   "cell_type": "code",
   "execution_count": null,
   "metadata": {},
   "outputs": [],
   "source": [
    "x = 9\n",
    "y = 1\n",
    "x < y"
   ]
  },
  {
   "cell_type": "code",
   "execution_count": null,
   "metadata": {},
   "outputs": [],
   "source": [
    "x > y"
   ]
  },
  {
   "cell_type": "code",
   "execution_count": null,
   "metadata": {},
   "outputs": [],
   "source": [
    "x == y"
   ]
  },
  {
   "cell_type": "markdown",
   "metadata": {},
   "source": [
    "Los operadores de comparación se pueden concatenar. Ejemplo:"
   ]
  },
  {
   "cell_type": "code",
   "execution_count": null,
   "metadata": {},
   "outputs": [],
   "source": [
    "x = 9\n",
    "1 < x and x < 20"
   ]
  },
  {
   "cell_type": "code",
   "execution_count": null,
   "metadata": {},
   "outputs": [],
   "source": [
    "1 < x < 20"
   ]
  },
  {
   "cell_type": "markdown",
   "metadata": {},
   "source": [
    "-Operadores aritmeticos: Estos permiten realizar las diferentes operaciones aritméticas del álgebra: suma, resta, producto, división.\n",
    "\n",
    "    +\tSuma dos operandos.\n",
    "    –\tResta al operando de la izquierda el valor del operando de la derecha. También cambia el signo.\n",
    "    *\tProducto/Multiplicación de dos operandos.\n",
    "    /\tDivide el operando de la izquierda por el de la derecha (el resultado siempre es un float).\n",
    "    %\tOperador módulo. Obtiene el resto de dividir el operando de la izquierda por el de la derecha.\n",
    "    //\tObtiene el cociente entero de dividir el operando de la izquierda por el de la derecha.\n",
    "    **\tPotencia. El resultado es el operando de la izquierda elevado a la potencia del operando de la derecha."
   ]
  },
  {
   "cell_type": "code",
   "execution_count": null,
   "metadata": {},
   "outputs": [],
   "source": [
    "x = 7\n",
    "y = 2\n",
    "x + y  # Suma"
   ]
  },
  {
   "cell_type": "code",
   "execution_count": null,
   "metadata": {},
   "outputs": [],
   "source": [
    "x - y  # Resta"
   ]
  },
  {
   "cell_type": "code",
   "execution_count": null,
   "metadata": {},
   "outputs": [],
   "source": [
    "x * y  # Producto"
   ]
  },
  {
   "cell_type": "code",
   "execution_count": null,
   "metadata": {},
   "outputs": [],
   "source": [
    "x / y  # División"
   ]
  },
  {
   "cell_type": "code",
   "execution_count": null,
   "metadata": {},
   "outputs": [],
   "source": [
    "x % y  # Resto de una división"
   ]
  },
  {
   "cell_type": "code",
   "execution_count": null,
   "metadata": {},
   "outputs": [],
   "source": [
    "x // y  # Cociente"
   ]
  },
  {
   "cell_type": "code",
   "execution_count": null,
   "metadata": {},
   "outputs": [],
   "source": [
    "x ** y  # Potencia"
   ]
  },
  {
   "cell_type": "markdown",
   "metadata": {},
   "source": [
    "-Operadores a nivel de bits: Los operadores a nivel de bits actúan sobre los operandos como si fueran una cadena de dígitos binarios. Como su nombre indica, actúan sobre los operandos bit a bit. Son los siguientes:\n",
    "\n",
    "        x | y :or bit a bit de x e y.\n",
    "        x & y :and bit a bit de x e y.\n",
    "        ~x :not x. Obtiene los bits de x invertidos.\n",
    "        \n",
    "\n",
    "    "
   ]
  },
  {
   "cell_type": "code",
   "execution_count": null,
   "metadata": {},
   "outputs": [],
   "source": [
    "x = 5 #101\n",
    "y = 2 #010"
   ]
  },
  {
   "cell_type": "code",
   "execution_count": null,
   "metadata": {},
   "outputs": [],
   "source": [
    "#101\n",
    "#010 &\n",
    "#=====\n",
    "#110\n",
    "\n",
    "x & y"
   ]
  },
  {
   "cell_type": "code",
   "execution_count": null,
   "metadata": {},
   "outputs": [],
   "source": [
    "#101\n",
    "#-(101 + 1)\n",
    "#-(110)\n",
    "~x"
   ]
  },
  {
   "cell_type": "code",
   "execution_count": null,
   "metadata": {},
   "outputs": [],
   "source": [
    "#101\n",
    "#010 |\n",
    "#=====\n",
    "#111\n",
    "x | y"
   ]
  },
  {
   "cell_type": "markdown",
   "metadata": {},
   "source": [
    "**Delimitadores:**\n",
    "Python utiliza símbolos y combinación de símbolos como delimitadores en expresiones, listas, diccionarios, etc\n",
    "Los siguientes caracteres tienen un especial significado como parte de otros símbolos: ' \" # \\ "
   ]
  },
  {
   "cell_type": "code",
   "execution_count": null,
   "metadata": {},
   "outputs": [],
   "source": [
    "lista = [1,2,3,4]\n",
    "Tupla = (1,2,3,4)\n",
    "#Esto es un comentario"
   ]
  },
  {
   "cell_type": "code",
   "execution_count": null,
   "metadata": {},
   "outputs": [],
   "source": [
    "cadena = \"Hola\"\n",
    "cadena2 = '´mundo' "
   ]
  },
  {
   "cell_type": "markdown",
   "metadata": {},
   "source": [
    "**Literales:** Un literal es un número o un string que aparece directamente en un programa (Lo contrario a una variable)\n",
    "Los siguientes son literales en Python:\n",
    "             \n",
    "                'hola'   \n",
    "                \"mundo\" \n",
    "                42"
   ]
  },
  {
   "cell_type": "markdown",
   "metadata": {},
   "source": [
    "## Diagrama Hertzsprung-Russel\n",
    "\n",
    "En el diagrama Hertzprung-Russell las temperaturas de las estrellas son graficadas con sus luminosidades.\n",
    "\n",
    "Es un diagrama, en el cual se ubican en un eje el tipo espectral de la estrellas (que se relacionan con la temperatura efectiva de sus superficies) y en el otro la luminosidad. Ubicando las estrellas de acuerdo a este par de coordenadas, se observa que se agrupan en distintas zonas específicas, relacionadas con la etapa evolutiva en la que se encuentran.\n",
    "\n",
    "Las estrellas que queman hidrógeno en helio se encuentran en la diagonal central del diagrama, llamadas estrellas de secuencia principal. Las enanas rojas se encuentran en la esquina inferior derecha. Una vez que una estrella sale de su secuencia principal se convierte en una gigante roja o una supergigante, dependiendo de su masa. Las estrellas con masas similares al Sol se convierten en enanas blancas.\n",
    "\n",
    "Crédito:\n",
    "ESO"
   ]
  },
  {
   "cell_type": "markdown",
   "metadata": {},
   "source": [
    "<img src=\"hertzsprung-russell.jpg\" width=\"600\">"
   ]
  },
  {
   "cell_type": "markdown",
   "metadata": {},
   "source": [
    "## Ejercicio 1 - Clasificación Estelar\n",
    "Las estrellas se clasifican por color, que se relaciona con la temperatura. Las estrellas rojas son las más frías y las azules son las más calientes."
   ]
  },
  {
   "cell_type": "markdown",
   "metadata": {},
   "source": [
    "Alnilam es la cuarta estrella más brillante en la constelación de Orión. Forma parte del llamado Cinturón de Orión junto con Mintaka y Alnitak, siendo la más brillante de las tres, pese a que es la más lejana en años luz. Su nombre proviene del árabe النظام An-niżām que significa «collar de perlas». \n",
    "\n",
    "        Distancia a la Tierra: 1,344 años luz\n",
    "        Temperatura de la superficie: 27,000 K\n",
    "        Masa solar: 30-64.5 M☉\n",
    "        Distancia: 1340 años luz (600 pc)\n",
    "        Índice de color: −0.18 (B-V); −1.03 (U-B)\n",
    "\n",
    "Si un Kelvin es equivalente a -272.15 grados Celsious y a -457.87 grados Fahrenheit, escriba un codigo que muestre la temperatura de Alnilam en esas unidades de medida \n",
    "\n",
    "*Nota:* "
   ]
  },
  {
   "cell_type": "markdown",
   "metadata": {},
   "source": [
    "     -Formula Fahrenheit:(1 K − 273.15) × 9/5 + 32 = -457.9 °F\n",
    "     -Formula Celsius: 1 K − 273.15 = -272.1 °C\n",
    "     \n",
    "![Tabla conversiones](https://study.com/cimages/multimages/16/3_conversion_table.jpg)\n",
    "\n",
    "Fuente: [Study.com](https://study.com/cimages/multimages/16/3_conversion_table.jpg)"
   ]
  },
  {
   "cell_type": "markdown",
   "metadata": {},
   "source": [
    "## Ejercicio 2 - Ley de Wien\n",
    "\n",
    "Esta ley nos dice que la longitud de onda en donde ocurre la máxima emisión de un cuerpo negro está relacionada con la temperatura a la que se encuentra un objeto. \n",
    "\n",
    "Esta relación está descrita como:\n",
    "\n",
    "![Ley de Wien](https://wikimedia.org/api/rest_v1/media/math/render/svg/7695b5b952a76adcab213f4d57838ee682a63e20)\n",
    "\n",
    "Donde **b** es 2898 um * K, **T** es la temperatura en Kelvin y **Lambda** es la longitud de onda, en micrómetros."
   ]
  },
  {
   "cell_type": "markdown",
   "metadata": {},
   "source": [
    "<img src=\"https://upload.wikimedia.org/wikipedia/commons/thumb/a/a2/Wiens_law.svg/1280px-Wiens_law.svg.png\" width=\"600\">\n",
    "A mayor temperatura, el pico de emisión ocurre a menor longitud de onda. Y a menor temperatura ocurre a una longitud de onda mayor.\n",
    "\n",
    "Fuente:[Creative Commons](https://es.wikipedia.org/wiki/Ley_de_desplazamiento_de_Wien#/media/Archivo:Wiens_law.svg)"
   ]
  },
  {
   "cell_type": "markdown",
   "metadata": {},
   "source": [
    "Ejercicio\n",
    "\n",
    "Si el Sol tiene una temperatura aproximada de 5700 K, usando la Ley de Wien ¿En qué longitud de onda se da su máxima emisión?"
   ]
  },
  {
   "cell_type": "markdown",
   "metadata": {},
   "source": [
    "## Ejercicio 3 - Masa de una galaxia\n",
    "\n",
    "Para encontrar la masa de una galaxia se utiliza el movimiento orbital de sus estrellas. Las estrellas de una galaxia muy masiva se van a mover más rápido que las estrellas de una galaxia con menos masa, esto se da porque la fuerza de gravedad de la galaxia más masiva genera mayor aceleración en sus estrellas.\n",
    " \n",
    "\n",
    "Al medir las velocidades de las estrellas, puedes calcular cuánta fuerza de gravedad ejerce su galaxia. Como la fuerza de gravedad depende de la masa y la distancia, conocer el tamaño de la orbita de la estrella te permite derivar la masa de la galaxia.\n",
    "Para las galaxias espirales, se utiliza la curva rotacional para medir su masa, tal es el caso de la Vía Láctea.\n",
    "\n",
    "Si conocemos la masa M de un cuerpo, ponemos calcular qué tan rápido debemos ir para orbitar a una ditancia r.\n",
    "\n",
    "                                                 v^2=GM/r\n",
    "                                                 \n",
    "                    Donde G es la constante gravitacional = 6.67x10^-11 m3/(kg*s^2)\n",
    "\n",
    "\n",
    "\n"
   ]
  },
  {
   "cell_type": "markdown",
   "metadata": {},
   "source": [
    "Basados en esa fórmula podemos concluir que la masa interior en la orbita de una estrella se puede calcular de la siguiente manera.                  \n",
    "       "
   ]
  },
  {
   "cell_type": "markdown",
   "metadata": {},
   "source": [
    "                                            M = rv^2/G\n",
    "                                                                 \n",
    "Si sabemos que el Sol rota alrededor del centro galáctico con los siguientes datos:\n",
    "\n",
    "    r = 1.6x10^20m\n",
    "    v = 2.2x10^5m/s\n",
    "\n",
    "Escriba un código que calcule la masa dentro de la órbita del Sol, esto es un paso importante a la hora de calcular la masa de la galaxia.\n",
    "\n",
    "[Más información sobre el calculo de la masa de una galaxias (Inglés)](https://www.youtube.com/watch?v=EwbdCzcfSsI)"
   ]
  },
  {
   "cell_type": "code",
   "execution_count": 2,
   "metadata": {},
   "outputs": [],
   "source": [
    "#Variable (identificadores)\n",
    "r = 1.6*10**20 #(m)\n",
    "v = 2.2*10**5 #(m/s)\n",
    "G = 6.67*10**-11 #(m3/(kgxs**2))"
   ]
  },
  {
   "cell_type": "code",
   "execution_count": null,
   "metadata": {},
   "outputs": [],
   "source": [
    "M = r*v**2/G\n",
    "M"
   ]
  },
  {
   "cell_type": "markdown",
   "metadata": {},
   "source": [
    "## Ejercicios adicionales\n",
    "En el artículo de Zavala et al. 2017, se habla de la galaxia conocida como G09 83808, una de las galaxias polvorientas con alta formación estelar más lejanas conocidas hasta el momento (z = 6.027, cuando el universo tenía aproximadamente el 10% de su edad actual), en esta galaxia se encontró una línea de CO(5-4) con una frecuencia de 82.031 GHz. Sabemos que la longitud de onda junto con el corrimiento al rojo se escala de la forma:\n",
    "\n",
    "**frec_e = frec_0 * (1 + z)**\n",
    "\n",
    "donde frec_e es la frec emitida, y frec_0 es la frecuencia observada\n",
    "\n",
    "¿A qué longitud de onda se emite esta línea?"
   ]
  },
  {
   "cell_type": "markdown",
   "metadata": {},
   "source": [
    "Si la temperatura del Fondo Cósmico de Microondas (CMB), es 2.73 K y la temperatura con el corrimiento al rojo se escala de la forma:\n",
    "\n",
    "**T_z = T_0 * (1 + z)**\n",
    "\n",
    "donde T_z es la temperatura del CMB a ese corrimiento al rojo, T_0 es la temperatura del CMB hoy en día\n",
    "\n",
    "¿Cuál es la temperatura del CMB a este corrimiento al rojo?\n"
   ]
  },
  {
   "cell_type": "code",
   "execution_count": null,
   "metadata": {},
   "outputs": [],
   "source": []
  }
 ],
 "metadata": {
  "kernelspec": {
   "display_name": "Python 3",
   "language": "python",
   "name": "python3"
  },
  "language_info": {
   "codemirror_mode": {
    "name": "ipython",
    "version": 3
   },
   "file_extension": ".py",
   "mimetype": "text/x-python",
   "name": "python",
   "nbconvert_exporter": "python",
   "pygments_lexer": "ipython3",
   "version": "3.7.6"
  }
 },
 "nbformat": 4,
 "nbformat_minor": 4
}
