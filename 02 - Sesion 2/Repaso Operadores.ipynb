{
 "cells": [
  {
   "cell_type": "markdown",
   "metadata": {},
   "source": [
    "# Práctica de la sesión pasada\n",
    "\n",
    "**Python y su sintáxis**\n",
    "\n",
    "[Ruleta](https://tools-unite.com/tools/random-picker-wheel)"
   ]
  },
  {
   "cell_type": "markdown",
   "metadata": {},
   "source": [
    "    1 - ¿Qué es Python y por qué es importante saber usarlo si queremos trabajar en astro?\n",
    "    2 - ¿Qué es la sintáxis de un lenguaje de programación?\n",
    "    3 - ¿Qué es un Token? Mencione 2 tokens en Python\n",
    "    5 - Dos ejemplos de cómo **NO** se puede definir un indentificador en Python\n",
    "    6 - ¿Cómo se define una igualdad en Python?\n",
    "    7 - ¿Cómo procesa Python el operador **OR**?\n",
    "    8 - ¿Para qué se utiliza el operador **NOT**?\n",
    "    9 - ¿Cuál es la función del operador aritmético **%**?\n",
    "    10 - ¿Cómo escribiría 2.6x20^-11 en Python?"
   ]
  },
  {
   "cell_type": "markdown",
   "metadata": {},
   "source": [
    "## Ejercicio 1 - Clasificación Estelar\n",
    "Las estrellas se clasifican por color, que se relaciona con la temperatura. Las estrellas rojas son las más frías y las azules son las más calientes.\n"
   ]
  },
  {
   "cell_type": "markdown",
   "metadata": {},
   "source": [
    "Alnilam es la cuarta estrella más brillante en la constelación de Orión. Forma parte del llamado Cinturón de Orión junto con Mintaka y Alnitak, siendo la más brillante de las tres, pese a que es la más lejana en años luz. Su nombre proviene del árabe النظام An-niżām que significa «collar de perlas». \n",
    "\n",
    "        Distancia a la Tierra: 1,344 años luz\n",
    "        Temperatura de la superficie: 27,000 K\n",
    "        Masa solar: 30-64.5 M☉\n",
    "        Distancia: 1340 años luz (600 pc)\n",
    "        Índice de color: −0.18 (B-V); −1.03 (U-B)\n",
    "\n",
    "Si un Kelvin es equivalente a -272.15 grados Celsious y a -457.87 grados Fahrenheit, escriba un codigo que muestre la temperatura de Alnilam en esas unidades de medida \n",
    "\n",
    "*Nota:* "
   ]
  },
  {
   "cell_type": "markdown",
   "metadata": {},
   "source": [
    "     -Formula Fahrenheit:(1 K − 273.15) × 9/5 + 32 = -457.9 °F\n",
    "     -Formula Celsius: 1 K − 273.15 = -272.1 °C\n",
    "     \n",
    "![Tabla conversiones](https://study.com/cimages/multimages/16/3_conversion_table.jpg)\n",
    "\n",
    "Fuente: [Study.com](https://study.com/cimages/multimages/16/3_conversion_table.jpg)"
   ]
  },
  {
   "cell_type": "code",
   "execution_count": null,
   "metadata": {},
   "outputs": [],
   "source": [
    "k = 27000"
   ]
  },
  {
   "cell_type": "code",
   "execution_count": null,
   "metadata": {},
   "outputs": [],
   "source": [
    "#kelvin a celsius\n",
    "c = k - 273.15\n",
    "print (str(c) + \" C°\")"
   ]
  },
  {
   "cell_type": "code",
   "execution_count": null,
   "metadata": {},
   "outputs": [],
   "source": [
    "#kelvin a Fahrenheit\n",
    "f = (k - 273.15) * 9/5 + 32\n",
    "print (str(f) + \" F°\")"
   ]
  },
  {
   "cell_type": "code",
   "execution_count": null,
   "metadata": {},
   "outputs": [],
   "source": []
  }
 ],
 "metadata": {
  "kernelspec": {
   "display_name": "Python 3",
   "language": "python",
   "name": "python3"
  },
  "language_info": {
   "codemirror_mode": {
    "name": "ipython",
    "version": 3
   },
   "file_extension": ".py",
   "mimetype": "text/x-python",
   "name": "python",
   "nbconvert_exporter": "python",
   "pygments_lexer": "ipython3",
   "version": "3.7.6"
  }
 },
 "nbformat": 4,
 "nbformat_minor": 4
}
