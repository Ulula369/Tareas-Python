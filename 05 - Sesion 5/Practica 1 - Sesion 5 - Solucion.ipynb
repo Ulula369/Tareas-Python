{
 "cells": [
  {
   "cell_type": "markdown",
   "metadata": {},
   "source": [
    "# Practica\n",
    "\n",
    "Escriba un programa de Python para imprimir la siguiente cadena en un formato específico (vea el resultado).\n",
    "Cadena de muestra: \"Brilla, brilla, pequeña estrella, ¡cómo me pregunto qué eres! En lo alto del mundo tan alto, como un diamante en el cielo. Brilla, brilla, pequeña estrella, cómo me pregunto qué eres\" Output:\n",
    "\n",
    "                                            Brilla brilla pequeña estrella,\n",
    "                                            ¡Cómo me pregunto lo que eres!\n",
    "                                                    Por encima del mundo tan arriba,\n",
    "                                                Como un diamante en el cielo.\n",
    "                                            Brilla brilla pequeña estrella,\n",
    "                                            Cómo me pregunto lo que eres"
   ]
  },
  {
   "cell_type": "code",
   "execution_count": 4,
   "metadata": {},
   "outputs": [
    {
     "name": "stdout",
     "output_type": "stream",
     "text": [
      "Brilla brilla pequeña estrella, \n",
      "¡Cómo me pregunto lo que eres! \n",
      "\t\tPor encima del mundo tan arriba, \n",
      "\tComo un diamante en el cielo.. \n",
      "Brilla brilla pequeña estrella, \n",
      "Cómo me pregunto lo que eres\n"
     ]
    }
   ],
   "source": [
    "print(\"Brilla brilla pequeña estrella, \\n¡Cómo me pregunto lo que eres! \\n\\t\\tPor encima del mundo tan arriba, \\n\\tComo un diamante en el cielo.. \\nBrilla brilla pequeña estrella, \\nCómo me pregunto lo que eres\")"
   ]
  },
  {
   "cell_type": "markdown",
   "metadata": {},
   "source": [
    "Escriba un programa en Python para eliminar e imprimir cada tercer número de una lista de números hasta que la lista quede vacía."
   ]
  },
  {
   "cell_type": "code",
   "execution_count": 5,
   "metadata": {},
   "outputs": [
    {
     "name": "stdout",
     "output_type": "stream",
     "text": [
      "30\n",
      "60\n",
      "90\n",
      "40\n",
      "80\n",
      "50\n",
      "20\n",
      "70\n",
      "10\n"
     ]
    }
   ],
   "source": [
    "def remover_nums(int_list):\n",
    "    position = 3 - 1 \n",
    "    idx = 0\n",
    "    len_list = (len(int_list))\n",
    "    while len_list>0:\n",
    "        idx = (position+idx)%len_list\n",
    "        print(int_list.pop(idx))#pop elimina elemento de lista por default el ultimob\n",
    "        len_list -= 1\n",
    "nums = [10,20,30,40,50,60,70,80,90]\n",
    "remover_nums(nums)"
   ]
  },
  {
   "cell_type": "markdown",
   "metadata": {},
   "source": [
    "Escriba una función de Python que tome una lista de palabras y devuelva la palabra más larga y la longitud de la más larga. \n",
    "\n",
    "            Ejemplo\n",
    "            Palabra más larga: Ejercicios\n",
    "            Longitud de la palabra más larga: 9"
   ]
  },
  {
   "cell_type": "code",
   "execution_count": 8,
   "metadata": {},
   "outputs": [
    {
     "name": "stdout",
     "output_type": "stream",
     "text": [
      "\n",
      "Palabra más larga:  Abecedario\n",
      "Longitud de la palabra más larga:  10\n"
     ]
    }
   ],
   "source": [
    "def palabraLarga(palabras):\n",
    "    tamañoPalabra = []\n",
    "    for n in palabras:\n",
    "        tamañoPalabra.append((len(n), n))\n",
    "    tamañoPalabra.sort()\n",
    "    return tamañoPalabra[-1][0], tamañoPalabra[-1][1]\n",
    "result = palabraLarga([\"PHP\", \"Ejercicio\", \"Backend\", \"Abecedario\"])\n",
    "print(\"\\nPalabra más larga: \",result[1])\n",
    "print(\"Longitud de la palabra más larga: \",result[0])"
   ]
  },
  {
   "cell_type": "markdown",
   "metadata": {},
   "source": [
    "Escribe un programa Python para eliminar duplicados de una lista."
   ]
  },
  {
   "cell_type": "code",
   "execution_count": 9,
   "metadata": {},
   "outputs": [
    {
     "name": "stdout",
     "output_type": "stream",
     "text": [
      "{40, 10, 80, 50, 20, 60, 30}\n"
     ]
    }
   ],
   "source": [
    "a = [10,20,30,20,10,50,60,40,80,50,40]\n",
    "\n",
    "dup_items = set()\n",
    "uniq_items = []\n",
    "for x in a:\n",
    "    if x not in dup_items:\n",
    "        uniq_items.append(x)\n",
    "        dup_items.add(x)\n",
    "\n",
    "print(dup_items)"
   ]
  },
  {
   "cell_type": "markdown",
   "metadata": {},
   "source": [
    "Escriba un programa Python para convertir una lista de varios enteros en un solo entero. \n",
    "\n",
    "                        Lista de muestra: [11, 33, 50]\n",
    "                        Resultado esperado: 113350"
   ]
  },
  {
   "cell_type": "code",
   "execution_count": 11,
   "metadata": {},
   "outputs": [
    {
     "name": "stdout",
     "output_type": "stream",
     "text": [
      "Lista Original:  [11, 33, 50]\n",
      "Resultado:  113350\n"
     ]
    }
   ],
   "source": [
    "L = [11, 33, 50]\n",
    "print(\"Lista Original: \",L)\n",
    "x = int(\"\".join(map(str, L)))\n",
    "print(\"Resultado: \",x)"
   ]
  },
  {
   "cell_type": "markdown",
   "metadata": {},
   "source": [
    "Escriba una secuencia de comandos de Python para ordenar (ascendente y descendente) un diccionario por valor."
   ]
  },
  {
   "cell_type": "code",
   "execution_count": 12,
   "metadata": {},
   "outputs": [
    {
     "name": "stdout",
     "output_type": "stream",
     "text": [
      "Diccionario original :  {1: 2, 3: 4, 4: 3, 2: 1, 0: 0}\n",
      "Ascendente :  [(0, 0), (2, 1), (1, 2), (4, 3), (3, 4)]\n",
      "Descendente :  {3: 4, 4: 3, 1: 2, 2: 1, 0: 0}\n"
     ]
    }
   ],
   "source": [
    "import operator\n",
    "d = {1: 2, 3: 4, 4: 3, 2: 1, 0: 0}\n",
    "print('Diccionario original : ',d)\n",
    "sorted_d = sorted(d.items(), key=operator.itemgetter(1))\n",
    "print('Ascendente : ',sorted_d)\n",
    "sorted_d = dict( sorted(d.items(), key=operator.itemgetter(1),reverse=True))\n",
    "print('Descendente : ',sorted_d)"
   ]
  },
  {
   "cell_type": "markdown",
   "metadata": {},
   "source": [
    "Escriba un programa en Python para combinar dos diccionarios agregando valores para claves comunes.\n",
    "\n",
    "        d1 = {'a': 100, 'b': 200, 'c': 300}\n",
    "        d2 = {'a': 300, 'b': 200, 'd': 400}\n",
    "        Salida de muestra: Contador ({'a': 400, 'b': 400, 'd': 400, 'c': 300})"
   ]
  },
  {
   "cell_type": "code",
   "execution_count": 13,
   "metadata": {},
   "outputs": [
    {
     "name": "stdout",
     "output_type": "stream",
     "text": [
      "Counter({'a': 400, 'b': 400, 'd': 400, 'c': 300})\n"
     ]
    }
   ],
   "source": [
    "from collections import Counter\n",
    "d1 = {'a': 100, 'b': 200, 'c':300}\n",
    "d2 = {'a': 300, 'b': 200, 'd':400}\n",
    "d = Counter(d1) + Counter(d2)\n",
    "print(d)"
   ]
  },
  {
   "cell_type": "markdown",
   "metadata": {},
   "source": [
    "Escriba un programa Python para eliminar elementos vacíos de un diccionario determinado.\n",
    "\n",
    "    Diccionario original:\n",
    "    {'c1': 'Rojo', 'c2': 'Verde', 'c3': None}\n",
    "    Nuevo diccionario después de eliminar elementos vacíos:\n",
    "    {'c1': 'Rojo', 'c2': 'Verde'}"
   ]
  },
  {
   "cell_type": "code",
   "execution_count": 14,
   "metadata": {},
   "outputs": [
    {
     "name": "stdout",
     "output_type": "stream",
     "text": [
      "Diccionario original:\n",
      "{'c1': 'Rojo', 'c2': 'Verde', 'c3': None}\n",
      "Nuevo sin vacios:\n",
      "{'c1': 'Rojo', 'c2': 'Verde'}\n"
     ]
    }
   ],
   "source": [
    "dict1 = {'c1': 'Rojo', 'c2': 'Verde', 'c3':None}\n",
    "print(\"Diccionario original:\")\n",
    "print(dict1)\n",
    "print(\"Nuevo sin vacios:\")\n",
    "dict1 = {key:value for (key, value) in dict1.items() if value is not None}\n",
    "print(dict1)"
   ]
  },
  {
   "cell_type": "markdown",
   "metadata": {},
   "source": [
    "Escriba un programa Python para extraer valores de un diccionario determinado y cree una lista de listas a partir de esos valores.\n",
    "\n",
    "        Diccionario original:\n",
    "        [{'student_id': 1, 'name': 'Jean Castro', 'class': 'V'}, {'student_id': 2, 'name': 'Lula Powell', 'class': 'V'} , {'student_id': 3, 'name': 'Brian Howell', 'class': 'VI'}, {'student_id': 4, 'name': 'Lynne Foster', 'class': 'VI'} , {'student_id': 5, 'name': 'Zachary Simon', 'class': 'VII'}]\n",
    "        Extraiga valores de dicho diccionario y cree una lista de listas utilizando esos valores:\n",
    "        [[1, 'Jean Castro', 'V'], [2, 'Lula Powell', 'V'], [3, 'Brian Howell', 'VI'], [4, 'Lynne Foster', 'VI '], [5,' Zachary Simon ',' VII ']]\n",
    "        [[1, 'Jean Castro'], [2, 'Lula Powell'], [3, 'Brian Howell'], [4, 'Lynne Foster'], [5, 'Zachary Simon']]\n",
    "        [['Jean Castro', 'V'], ['Lula Powell', 'V'], ['Brian Howell', 'VI'], ['Lynne Foster', 'VI'], ['Zachary Simon' , 'VII']]"
   ]
  },
  {
   "cell_type": "code",
   "execution_count": 16,
   "metadata": {},
   "outputs": [
    {
     "name": "stdout",
     "output_type": "stream",
     "text": [
      "\n",
      " Diccionario original:\n",
      "[{'student_id': 1, 'name': 'Jean Castro', 'class': 'V'}, {'student_id': 2, 'name': 'Lula Powell', 'class': 'V'}, {'student_id': 3, 'name': 'Brian Howell', 'class': 'VI'}, {'student_id': 4, 'name': 'Lynne Foster', 'class': 'VI'}, {'student_id': 5, 'name': 'Zachary Simon', 'class': 'VII'}]\n",
      "\n",
      "Extraiga valores de dicho diccionario y cree una lista de listas utilizando esos valores:\n",
      "\n",
      " [[1, 'Jean Castro', 'V'], [2, 'Lula Powell', 'V'], [3, 'Brian Howell', 'VI'], [4, 'Lynne Foster', 'VI'], [5, 'Zachary Simon', 'VII']]\n",
      "\n",
      " [[1, 'Jean Castro'], [2, 'Lula Powell'], [3, 'Brian Howell'], [4, 'Lynne Foster'], [5, 'Zachary Simon']]\n",
      "\n",
      " [['Jean Castro', 'V'], ['Lula Powell', 'V'], ['Brian Howell', 'VI'], ['Lynne Foster', 'VI'], ['Zachary Simon', 'VII']]\n"
     ]
    }
   ],
   "source": [
    "def test(dictt,keys):\n",
    "    return [list(d[k] for k in keys) for d in dictt] \n",
    "\n",
    "students = [\n",
    "        {'student_id': 1, 'name': 'Jean Castro', 'class': 'V'}, \n",
    "        {'student_id': 2, 'name': 'Lula Powell', 'class': 'V'},\n",
    "        {'student_id': 3, 'name': 'Brian Howell', 'class': 'VI'}, \n",
    "        {'student_id': 4, 'name': 'Lynne Foster', 'class': 'VI'}, \n",
    "        {'student_id': 5, 'name': 'Zachary Simon', 'class': 'VII'}\n",
    "        ]\n",
    "\n",
    "print(\"\\n Diccionario original:\")\n",
    "print(students)\n",
    "print(\"\\nExtraiga valores de dicho diccionario y cree una lista de listas utilizando esos valores:\")\n",
    "print(\"\\n\",test(students,('student_id', 'name', 'class')))\n",
    "print(\"\\n\",test(students,('student_id', 'name')))\n",
    "print(\"\\n\",test(students,('name', 'class')))"
   ]
  },
  {
   "cell_type": "markdown",
   "metadata": {},
   "source": [
    "Escribe un programa en Python para adivinar un número entre 1 y 9.\n",
    "\n",
    "\n",
    "Nota: Se le pide al usuario que ingrese una suposición. Si el usuario adivina mal, el mensaje vuelve a aparecer hasta que la suposición sea correcta; si lo adivina correctamente, el usuario obtendrá un \"¡Bien adivinado!\" mensaje y el programa saldrá."
   ]
  },
  {
   "cell_type": "code",
   "execution_count": 17,
   "metadata": {},
   "outputs": [
    {
     "name": "stdout",
     "output_type": "stream",
     "text": [
      "Adivine un número del 1 al 9 hasta que lo tenga correcto : 2\n",
      "Adivine un número del 1 al 9 hasta que lo tenga correcto : 1\n",
      "Adivine un número del 1 al 9 hasta que lo tenga correcto : 2\n",
      "Adivine un número del 1 al 9 hasta que lo tenga correcto : 3\n",
      "Adivine un número del 1 al 9 hasta que lo tenga correcto : 4\n",
      "Adivine un número del 1 al 9 hasta que lo tenga correcto : 45\n",
      "Adivine un número del 1 al 9 hasta que lo tenga correcto : 5\n",
      "Adivine un número del 1 al 9 hasta que lo tenga correcto : 4\n",
      "Adivine un número del 1 al 9 hasta que lo tenga correcto : 6\n",
      "Adivine un número del 1 al 9 hasta que lo tenga correcto : 7\n",
      "Bien hecho\n"
     ]
    }
   ],
   "source": [
    "import random\n",
    "target_num, guess_num = random.randint(1, 10), 0\n",
    "while target_num != guess_num:\n",
    "    guess_num = int(input('Adivine un número del 1 al 9 hasta que lo tenga correcto : '))\n",
    "print('Bien hecho')"
   ]
  },
  {
   "cell_type": "markdown",
   "metadata": {},
   "source": [
    "Escriba un script de Python para imprimir un diccionario donde las claves son números entre 1 y 15 (ambos incluidos) y los valores son cuadrados de claves.\n",
    "Diccionario de muestra\n",
    "{1: 1, 2: 4, 3: 9, 4:16, 5:25, 6:36, 7:49, 8:64, 9: 81, 10: 100, 11: 121, 12: 144, 13 : 169, 14: 196, 15: 225}"
   ]
  },
  {
   "cell_type": "code",
   "execution_count": 1,
   "metadata": {},
   "outputs": [
    {
     "name": "stdout",
     "output_type": "stream",
     "text": [
      "{1: 1, 2: 4, 3: 9, 4: 16, 5: 25, 6: 36, 7: 49, 8: 64, 9: 81, 10: 100, 11: 121, 12: 144, 13: 169, 14: 196, 15: 225}\n"
     ]
    }
   ],
   "source": [
    "d=dict()\n",
    "for x in range(1,16):\n",
    "    d[x]=x**2\n",
    "print(d)  "
   ]
  },
  {
   "cell_type": "markdown",
   "metadata": {},
   "source": [
    "Elimine una llave en un diccionario"
   ]
  },
  {
   "cell_type": "code",
   "execution_count": 2,
   "metadata": {},
   "outputs": [
    {
     "name": "stdout",
     "output_type": "stream",
     "text": [
      "{'a': 1, 'b': 2, 'c': 3, 'd': 4}\n",
      "{'b': 2, 'c': 3, 'd': 4}\n"
     ]
    }
   ],
   "source": [
    "myDict = {'a':1,'b':2,'c':3,'d':4}\n",
    "print(myDict)\n",
    "if 'a' in myDict: \n",
    "    del myDict['a']\n",
    "print(myDict)"
   ]
  },
  {
   "cell_type": "markdown",
   "metadata": {},
   "source": [
    "Devuelva el valor máximo y el mínimo en un diccionario"
   ]
  },
  {
   "cell_type": "code",
   "execution_count": 3,
   "metadata": {},
   "outputs": [
    {
     "name": "stdout",
     "output_type": "stream",
     "text": [
      "Maximum Value:  5874\n",
      "Minimum Value:  500\n"
     ]
    }
   ],
   "source": [
    "my_dict = {'x':500, 'y':5874, 'z': 560}\n",
    "\n",
    "key_max = max(my_dict.keys(), key=(lambda k: my_dict[k]))\n",
    "key_min = min(my_dict.keys(), key=(lambda k: my_dict[k]))\n",
    "\n",
    "print('Maximum Value: ',my_dict[key_max])\n",
    "print('Minimum Value: ',my_dict[key_min])"
   ]
  },
  {
   "cell_type": "markdown",
   "metadata": {},
   "source": [
    "Escriba un programa de Pandas para obtener los poderes de una matriz de valores por elementos.\n",
    "Nota: Primeros elementos de la matriz elevados a potencias desde la segunda matriz\n",
    "Datos de muestra: {'X': [78,85,96,80,86], 'Y': [84,94,89,83,86], 'Z': [86,97,96,72,83 ]}\n",
    "Rendimiento esperado:\n",
    "    \n",
    "               X Y Z\n",
    "            0 78 84 86\n",
    "            1 85 94 97\n",
    "            2 96 89 96\n",
    "            3 80 83 72\n",
    "            4 86 86 83"
   ]
  },
  {
   "cell_type": "code",
   "execution_count": 4,
   "metadata": {},
   "outputs": [
    {
     "name": "stdout",
     "output_type": "stream",
     "text": [
      "    X   Y   Z\n",
      "0  78  84  86\n",
      "1  85  94  97\n",
      "2  96  89  96\n",
      "3  80  83  72\n",
      "4  86  86  83\n"
     ]
    }
   ],
   "source": [
    "import pandas as pd\n",
    "df = pd.DataFrame({'X':[78,85,96,80,86], 'Y':[84,94,89,83,86],'Z':[86,97,96,72,83]});\n",
    "print(df)"
   ]
  }
 ],
 "metadata": {
  "kernelspec": {
   "display_name": "Python 3",
   "language": "python",
   "name": "python3"
  },
  "language_info": {
   "codemirror_mode": {
    "name": "ipython",
    "version": 3
   },
   "file_extension": ".py",
   "mimetype": "text/x-python",
   "name": "python",
   "nbconvert_exporter": "python",
   "pygments_lexer": "ipython3",
   "version": "3.7.6"
  }
 },
 "nbformat": 4,
 "nbformat_minor": 4
}
