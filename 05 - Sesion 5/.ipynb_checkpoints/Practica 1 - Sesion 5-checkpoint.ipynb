{
 "cells": [
  {
   "cell_type": "markdown",
   "metadata": {},
   "source": [
    "# Practica\n",
    "\n",
    "Escriba un programa de Python para imprimir la siguiente cadena en un formato específico (vea el resultado).\n",
    "Cadena de muestra: \"Brilla, brilla, pequeña estrella, ¡cómo me pregunto qué eres! En lo alto del mundo tan alto, como un diamante en el cielo. Brilla, brilla, pequeña estrella, cómo me pregunto qué eres\" Output:\n",
    "\n",
    "                                            Brilla brilla pequeña estrella,\n",
    "                                            ¡Cómo me pregunto lo que eres!\n",
    "                                                    Por encima del mundo tan arriba,\n",
    "                                                Como un diamante en el cielo.\n",
    "                                            Brilla brilla pequeña estrella,\n",
    "                                            Cómo me pregunto lo que eres"
   ]
  },
  {
   "cell_type": "code",
   "execution_count": null,
   "metadata": {},
   "outputs": [],
   "source": []
  },
  {
   "cell_type": "markdown",
   "metadata": {},
   "source": [
    "Escriba un programa en Python para eliminar e imprimir cada tercer número de una lista de números hasta que la lista quede vacía."
   ]
  },
  {
   "cell_type": "code",
   "execution_count": null,
   "metadata": {},
   "outputs": [],
   "source": []
  },
  {
   "cell_type": "markdown",
   "metadata": {},
   "source": [
    "Escriba una función de Python que tome una lista de palabras y devuelva la palabra más larga y la longitud de la más larga. \n",
    "\n",
    "            Ejemplo\n",
    "            Palabra más larga: Ejercicios\n",
    "            Longitud de la palabra más larga: 9"
   ]
  },
  {
   "cell_type": "code",
   "execution_count": null,
   "metadata": {},
   "outputs": [],
   "source": []
  },
  {
   "cell_type": "markdown",
   "metadata": {},
   "source": [
    "Escribe un programa Python para eliminar duplicados de una lista."
   ]
  },
  {
   "cell_type": "code",
   "execution_count": null,
   "metadata": {},
   "outputs": [],
   "source": []
  },
  {
   "cell_type": "markdown",
   "metadata": {},
   "source": [
    "Escriba un programa Python para convertir una lista de varios enteros en un solo entero. \n",
    "\n",
    "                        Lista de muestra: [11, 33, 50]\n",
    "                        Resultado esperado: 113350"
   ]
  },
  {
   "cell_type": "code",
   "execution_count": null,
   "metadata": {},
   "outputs": [],
   "source": []
  },
  {
   "cell_type": "markdown",
   "metadata": {},
   "source": [
    "Escriba una secuencia de comandos de Python para ordenar (ascendente y descendente) un diccionario por valor."
   ]
  },
  {
   "cell_type": "code",
   "execution_count": null,
   "metadata": {},
   "outputs": [],
   "source": []
  },
  {
   "cell_type": "markdown",
   "metadata": {},
   "source": [
    "Escriba un programa en Python para combinar dos diccionarios agregando valores para claves comunes.\n",
    "\n",
    "        d1 = {'a': 100, 'b': 200, 'c': 300}\n",
    "        d2 = {'a': 300, 'b': 200, 'd': 400}\n",
    "        Salida de muestra: Contador ({'a': 400, 'b': 400, 'd': 400, 'c': 300})"
   ]
  },
  {
   "cell_type": "code",
   "execution_count": null,
   "metadata": {},
   "outputs": [],
   "source": []
  },
  {
   "cell_type": "markdown",
   "metadata": {},
   "source": [
    "Escriba un programa Python para eliminar elementos vacíos de un diccionario determinado.\n",
    "\n",
    "    Diccionario original:\n",
    "    {'c1': 'Rojo', 'c2': 'Verde', 'c3': None}\n",
    "    Nuevo diccionario después de eliminar elementos vacíos:\n",
    "    {'c1': 'Rojo', 'c2': 'Verde'}"
   ]
  },
  {
   "cell_type": "code",
   "execution_count": null,
   "metadata": {},
   "outputs": [],
   "source": []
  },
  {
   "cell_type": "markdown",
   "metadata": {},
   "source": [
    "Escriba un programa Python para extraer valores de un diccionario determinado y cree una lista de listas a partir de esos valores.\n",
    "\n",
    "        Diccionario original:\n",
    "        [{'student_id': 1, 'name': 'Jean Castro', 'class': 'V'}, {'student_id': 2, 'name': 'Lula Powell', 'class': 'V'} , {'student_id': 3, 'name': 'Brian Howell', 'class': 'VI'}, {'student_id': 4, 'name': 'Lynne Foster', 'class': 'VI'} , {'student_id': 5, 'name': 'Zachary Simon', 'class': 'VII'}]\n",
    "        Extraiga valores de dicho diccionario y cree una lista de listas utilizando esos valores:\n",
    "        [[1, 'Jean Castro', 'V'], [2, 'Lula Powell', 'V'], [3, 'Brian Howell', 'VI'], [4, 'Lynne Foster', 'VI '], [5,' Zachary Simon ',' VII ']]\n",
    "        [[1, 'Jean Castro'], [2, 'Lula Powell'], [3, 'Brian Howell'], [4, 'Lynne Foster'], [5, 'Zachary Simon']]\n",
    "        [['Jean Castro', 'V'], ['Lula Powell', 'V'], ['Brian Howell', 'VI'], ['Lynne Foster', 'VI'], ['Zachary Simon' , 'VII']]"
   ]
  },
  {
   "cell_type": "code",
   "execution_count": null,
   "metadata": {},
   "outputs": [],
   "source": []
  },
  {
   "cell_type": "markdown",
   "metadata": {},
   "source": [
    "Escribe un programa en Python para adivinar un número entre 1 y 9.\n",
    "\n",
    "\n",
    "Nota: Se le pide al usuario que ingrese una suposición. Si el usuario adivina mal, el mensaje vuelve a aparecer hasta que la suposición sea correcta; si lo adivina correctamente, el usuario obtendrá un \"¡Bien adivinado!\" mensaje y el programa saldrá."
   ]
  },
  {
   "cell_type": "code",
   "execution_count": null,
   "metadata": {},
   "outputs": [],
   "source": []
  },
  {
   "cell_type": "markdown",
   "metadata": {},
   "source": [
    "Escriba un script de Python para imprimir un diccionario donde las claves son números entre 1 y 15 (ambos incluidos) y los valores son cuadrados de claves.\n",
    "Diccionario de muestra\n",
    "{1: 1, 2: 4, 3: 9, 4:16, 5:25, 6:36, 7:49, 8:64, 9: 81, 10: 100, 11: 121, 12: 144, 13 : 169, 14: 196, 15: 225}"
   ]
  },
  {
   "cell_type": "code",
   "execution_count": null,
   "metadata": {},
   "outputs": [],
   "source": []
  },
  {
   "cell_type": "markdown",
   "metadata": {},
   "source": [
    "Elimine una llave en un diccionario"
   ]
  },
  {
   "cell_type": "code",
   "execution_count": null,
   "metadata": {},
   "outputs": [],
   "source": []
  },
  {
   "cell_type": "markdown",
   "metadata": {},
   "source": [
    "Devuelva el valor máximo y el mínimo en un diccionario"
   ]
  },
  {
   "cell_type": "code",
   "execution_count": null,
   "metadata": {},
   "outputs": [],
   "source": []
  },
  {
   "cell_type": "markdown",
   "metadata": {},
   "source": [
    "Escriba un programa de Pandas para obtener los poderes de una matriz de valores por elementos.\n",
    "Nota: Primeros elementos de la matriz elevados a potencias desde la segunda matriz\n",
    "Datos de muestra: {'X': [78,85,96,80,86], 'Y': [84,94,89,83,86], 'Z': [86,97,96,72,83 ]}\n",
    "Rendimiento esperado:\n",
    "    \n",
    "               X Y Z\n",
    "            0 78 84 86\n",
    "            1 85 94 97\n",
    "            2 96 89 96\n",
    "            3 80 83 72\n",
    "            4 86 86 83"
   ]
  },
  {
   "cell_type": "code",
   "execution_count": null,
   "metadata": {},
   "outputs": [],
   "source": []
  }
 ],
 "metadata": {
  "kernelspec": {
   "display_name": "Python 3",
   "language": "python",
   "name": "python3"
  },
  "language_info": {
   "codemirror_mode": {
    "name": "ipython",
    "version": 3
   },
   "file_extension": ".py",
   "mimetype": "text/x-python",
   "name": "python",
   "nbconvert_exporter": "python",
   "pygments_lexer": "ipython3",
   "version": "3.7.6"
  }
 },
 "nbformat": 4,
 "nbformat_minor": 4
}
